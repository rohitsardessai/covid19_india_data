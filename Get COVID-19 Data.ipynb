{
 "cells": [
  {
   "cell_type": "markdown",
   "metadata": {},
   "source": [
    "# Get COVID-19 Data\n",
    "\n",
    "\n",
    "### Python Script Get COVID-19 Data\n",
    "\n",
    "Downloads JSON data from api.covid19india.org and returns it in a Pandas DataFrame.\n",
    "\n",
    "See [covid19india.org](https://www.covid19india.org/) for more info.\n",
    "\n",
    "The data is split into 8 jSON files (as of July 9)\n",
    "\n",
    "`read_json_data(no_of_files = 8)` <br>\n",
    "Change `no_of_files` when calling the function if necessary."
   ]
  },
  {
   "cell_type": "code",
   "execution_count": 1,
   "metadata": {},
   "outputs": [],
   "source": [
    "import numpy as np\n",
    "import pandas as pd\n",
    "import urllib.request, json "
   ]
  },
  {
   "cell_type": "code",
   "execution_count": 2,
   "metadata": {},
   "outputs": [],
   "source": [
    "api = \"api.covid19india.org/\"\n",
    "\n",
    "def read_json_data(no_of_files = 8):\n",
    "    \"\"\"Read json data from api and return a dataframe with the data\"\"\"\n",
    "    \n",
    "    lst = []\n",
    "\n",
    "    for i in range(1, no_of_files+1):\n",
    "        with urllib.request.urlopen(\"https://\" + api + \"raw_data\" + str(i) + \".json\") as url:\n",
    "            data = json.loads(url.read().decode())\n",
    "            lst.append(pd.json_normalize(data['raw_data']))\n",
    "        \n",
    "                                     \n",
    "    raw_data = pd.concat(lst, ignore_index = True)\n",
    "                                     \n",
    "    return raw_data"
   ]
  },
  {
   "cell_type": "code",
   "execution_count": null,
   "metadata": {},
   "outputs": [],
   "source": [
    "raw_data = read_json_data()"
   ]
  }
 ],
 "metadata": {
  "kernelspec": {
   "display_name": "Python 3",
   "language": "python",
   "name": "python3"
  },
  "language_info": {
   "codemirror_mode": {
    "name": "ipython",
    "version": 3
   },
   "file_extension": ".py",
   "mimetype": "text/x-python",
   "name": "python",
   "nbconvert_exporter": "python",
   "pygments_lexer": "ipython3",
   "version": "3.7.6"
  }
 },
 "nbformat": 4,
 "nbformat_minor": 4
}
